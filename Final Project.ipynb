{
 "cells": [
  {
   "cell_type": "markdown",
   "metadata": {},
   "source": [
    "Animal Crossing: New Horizons for computational linguists"
   ]
  },
  {
   "cell_type": "markdown",
   "metadata": {},
   "source": [
    "Importing necessary modules.\n",
    "Learned how to activate the kernel and install necessary modules"
   ]
  },
  {
   "cell_type": "code",
   "execution_count": 7,
   "metadata": {},
   "outputs": [
    {
     "name": "stderr",
     "output_type": "stream",
     "text": [
      "[nltk_data] Downloading package vader_lexicon to\n",
      "[nltk_data]     /home/ksl763/nltk_data...\n",
      "[nltk_data]   Package vader_lexicon is already up-to-date!\n"
     ]
    },
    {
     "data": {
      "text/plain": [
       "True"
      ]
     },
     "execution_count": 7,
     "metadata": {},
     "output_type": "execute_result"
    }
   ],
   "source": [
    "#! usr/bin/env python3\n",
    "import praw #imported with command pip install praw\n",
    "import pandas as pd #imported with command conda install pandas\n",
    "import datetime as dt\n",
    "import csv\n",
    "import requests\n",
    "import nltk\n",
    "from bs4 import BeautifulSoup\n",
    "from collections import Counter\n",
    "from nltk.corpus import stopwords\n",
    "from nltk.sentiment.vader import SentimentIntensityAnalyzer\n",
    "from nltk.tokenize import word_tokenize\n",
    "\n",
    "nltk.download(\"vader_lexicon\")"
   ]
  },
  {
   "cell_type": "markdown",
   "metadata": {},
   "source": [
    "Running praw command to access Reddit\n",
    "Redacted for privacy"
   ]
  },
  {
   "cell_type": "code",
   "execution_count": 8,
   "metadata": {},
   "outputs": [],
   "source": [
    "reddit = praw.Reddit(client_id='', \\\n",
    "                     client_secret='', \\\n",
    "                     user_agent='', \\\n",
    "                     username='', \\\n",
    "                     password='')\n",
    "\n",
    "subreddit = reddit.subreddit('AnimalCrossing')"
   ]
  },
  {
   "cell_type": "markdown",
   "metadata": {},
   "source": [
    "Class type Villager created to retain all relevant information to make things more organized. Each villager class will hold onto the name, gender, personality, species, reputation, and mentions of the villager. The reputation will be calculated later using a sentiment analyzer."
   ]
  },
  {
   "cell_type": "code",
   "execution_count": 9,
   "metadata": {},
   "outputs": [],
   "source": [
    "class Villager:\n",
    "    def __init__(self, name, gender, personality, species, reputation, mentions):\n",
    "        self.name = name\n",
    "        self.gender = gender\n",
    "        self.personality = personality\n",
    "        self.species = species\n",
    "        self.reputation = reputation\n",
    "        self.mentions = mentions"
   ]
  },
  {
   "cell_type": "markdown",
   "metadata": {},
   "source": [
    "Class type Sentiemnt created to retain all relevant information about sentimentality scores for the different genders, personality types, and species. Reputation will be calculated later using a sentiment analyzer."
   ]
  },
  {
   "cell_type": "code",
   "execution_count": 10,
   "metadata": {},
   "outputs": [],
   "source": [
    "class Sentiment:\n",
    "    def __init__(self, reputation, mentions):\n",
    "        self.reputation = reputation\n",
    "        self.mentions = mentions"
   ]
  },
  {
   "cell_type": "markdown",
   "metadata": {},
   "source": [
    "Extracting data from Animal Crossing wiki page pertaining to all Villagers. One problem was that the website used Greek symbols for male/female which were not friendly to work with in Python. So I learned a little bit about ALT codes and translated the symbols to ALT codes to Male/Female string. Finally, a master dictionary is created with all the villagers using the villagers' names as keys and the \"Villager\" object as the value. In addition, different Counters will be created to count reputations based on Species, Gender, and Personality types."
   ]
  },
  {
   "cell_type": "code",
   "execution_count": 11,
   "metadata": {},
   "outputs": [],
   "source": [
    "url=\"https://animalcrossing.fandom.com/wiki/Villager_list_(New_Horizons)\"\n",
    "html_content = requests.get(url).text\n",
    "soup = BeautifulSoup(html_content)\n",
    "\n",
    "#Dictionaires/Counters to hold sentiment data for each villager\n",
    "#Key is Villager Name\n",
    "#Value is Villager's sentiment value\n",
    "characters = {}\n",
    "\n",
    "#Dictionaries to hold sentiment data on gender, personality, and species respectively\n",
    "#Key is each type of gender, personality, and species respectively\n",
    "#Value is sentiment value for each type of gender, personality, and species respectively\n",
    "Gender = {} \n",
    "Personality = {}\n",
    "Species = {}\n",
    "Mentions = Counter()\n",
    "\n",
    "for tr in soup.findAll(\"table\")[2].findAll('tr')[1:]:\n",
    "    name = tr.text.splitlines()[1]\n",
    "    if tr.text.splitlines()[3][1] == '\\u2642':\n",
    "        gender = \"Male\"\n",
    "    else:\n",
    "        gender = \"Female\"\n",
    "    personality = tr.text.splitlines()[3][3:]\n",
    "    species = tr.text.splitlines()[4].replace(\" \", \"\")\n",
    "    characters[name] = Villager(name, gender, personality, species, 0, 0)\n",
    "    \n",
    "    Gender[gender] = Sentiment(0,0)\n",
    "    Personality[personality] = Sentiment(0,0)\n",
    "    Species[species] = Sentiment(0,0)\n",
    "    Mentions[name] = 0"
   ]
  },
  {
   "cell_type": "markdown",
   "metadata": {},
   "source": [
    "This will be our Sentiment Analyzer made from NLTK. Documentation for Vader can be found here: https://www.nltk.org/_modules/nltk/sentiment/vader.html. Each comment including the villager's name would be analyzed using the Sentiment Analyzer. The number of comments is also included. In the end, the total sentimentality score is averaged with the total number of comments for each villager, gender, personality type, and species. The sentimentality score ranges from -1 to 1 (negative to positive).\n",
    "\n",
    "PS I was unable to get any scores for villagers with two words as their name. As a result, they will have a score of 0 since I was unable to find any matches. Also, this process has TERRIBLE run-time. It's exponential which is the worst O(n), but I have tons of data to go through, so I could not think of another way of going about it. "
   ]
  },
  {
   "cell_type": "code",
   "execution_count": 12,
   "metadata": {},
   "outputs": [],
   "source": [
    "sid = SentimentIntensityAnalyzer()\n",
    "\n",
    "#collects data from comments on ONE submission\n",
    "example = subreddit.top(limit=500)\n",
    "\n",
    "count = 0\n",
    "\n",
    "for submission in example:\n",
    "    submission.comments.replace_more(limit=0)\n",
    "    for comment in submission.comments:\n",
    "        tokens = word_tokenize(comment.body)\n",
    "        for token in tokens:\n",
    "            if token in characters.keys():\n",
    "                characters[token].mentions += 1\n",
    "                characters[token].reputation += sid.polarity_scores(comment.body)[\"compound\"]\n",
    "                \n",
    "                Gender[characters[token].gender].mentions += 1\n",
    "                Gender[characters[token].gender].reputation += sid.polarity_scores(comment.body)[\"compound\"]\n",
    "                \n",
    "                Personality[characters[token].personality].mentions += 1\n",
    "                Personality[characters[token].personality].reputation += sid.polarity_scores(comment.body)[\"compound\"]\n",
    "                \n",
    "                Species[characters[token].species].mentions += 1\n",
    "                Species[characters[token].species].reputation += sid.polarity_scores(comment.body)[\"compound\"]"
   ]
  },
  {
   "cell_type": "markdown",
   "metadata": {},
   "source": [
    "Helper function that computes the mean sentiment score from Sentiment Analyzer. Input is a dictionary with classes holding total sentiment scores and total mentions. Calculates the mean of each entry within dictionary. Returns a counter with entry as key and final sentiment score as value"
   ]
  },
  {
   "cell_type": "code",
   "execution_count": 13,
   "metadata": {},
   "outputs": [],
   "source": [
    "def SentimentScoreCalculator(d):\n",
    "    result = Counter()\n",
    "    \n",
    "    for a in d.keys():\n",
    "        if d[a].mentions != 0:\n",
    "            result[a] = round(d[a].reputation/d[a].mentions,4)\n",
    "    \n",
    "    return result"
   ]
  },
  {
   "cell_type": "code",
   "execution_count": 14,
   "metadata": {},
   "outputs": [],
   "source": [
    "Reputations = SentimentScoreCalculator(characters)\n",
    "Gender_scores = SentimentScoreCalculator(Gender)\n",
    "Personality_scores = SentimentScoreCalculator(Personality)\n",
    "Species_scores = SentimentScoreCalculator(Species)"
   ]
  },
  {
   "cell_type": "markdown",
   "metadata": {},
   "source": [
    "Writing all the data we have to a CSV file."
   ]
  },
  {
   "cell_type": "code",
   "execution_count": 15,
   "metadata": {},
   "outputs": [],
   "source": [
    "with open('ACNH.csv', mode='w') as csv_file: #Learned how to convert all this text data into a presentable CSV file\n",
    "    fieldnames = ['Name', 'Gender', 'Personality', 'Species', 'Reputation', 'Mentions']\n",
    "    writer = csv.DictWriter(csv_file, fieldnames=fieldnames)\n",
    "    \n",
    "    writer.writeheader()\n",
    "    for c in characters.keys():\n",
    "        writer.writerow({\"Name\": characters[c].name,\n",
    "                         \"Gender\": characters[c].gender,\n",
    "                         \"Personality\": characters[c].personality,\n",
    "                         \"Species\": characters[c].species,\n",
    "                         \"Reputation\": Reputations[c],\n",
    "                         \"Mentions\": characters[c].mentions})"
   ]
  },
  {
   "cell_type": "markdown",
   "metadata": {},
   "source": [
    "Extracting some data:\n",
    "Top 10 Villagers\n",
    "Worst 10 Villagers"
   ]
  },
  {
   "cell_type": "code",
   "execution_count": 23,
   "metadata": {},
   "outputs": [],
   "source": [
    "#print(Reputations.most_common(10))\n",
    "#print(Gender_scores.most_common())\n",
    "#print(Personality_scores.most_common())\n",
    "#print(Species_scores.most_common())"
   ]
  },
  {
   "cell_type": "code",
   "execution_count": 17,
   "metadata": {},
   "outputs": [],
   "source": [
    "from operator import itemgetter\n",
    "import heapq\n",
    "import collections\n",
    "\n",
    "def least_common_values(array, to_find=None):\n",
    "    counter = collections.Counter(array)\n",
    "    if to_find is None:\n",
    "        return sorted(counter.items(), key=itemgetter(1), reverse=False)\n",
    "    return heapq.nsmallest(to_find, counter.items(), key=itemgetter(1))"
   ]
  },
  {
   "cell_type": "code",
   "execution_count": 18,
   "metadata": {},
   "outputs": [],
   "source": [
    "#least_common_values(Reputations)"
   ]
  },
  {
   "cell_type": "code",
   "execution_count": 21,
   "metadata": {},
   "outputs": [
    {
     "data": {
      "text/plain": [
       "[('Tom', 511),\n",
       " ('Raymond', 218),\n",
       " ('Roald', 156),\n",
       " ('Kyle', 134),\n",
       " ('Pietro', 134),\n",
       " ('Rodney', 134),\n",
       " ('Dom', 127),\n",
       " ('Sherb', 120),\n",
       " ('Bob', 111),\n",
       " ('Bill', 106)]"
      ]
     },
     "execution_count": 21,
     "metadata": {},
     "output_type": "execute_result"
    }
   ],
   "source": [
    "for a in characters.keys():\n",
    "    Mentions[a] = characters[a].mentions\n",
    "    \n",
    "#Mentions.most_common(10)"
   ]
  },
  {
   "cell_type": "markdown",
   "metadata": {},
   "source": []
  },
  {
   "cell_type": "code",
   "execution_count": null,
   "metadata": {},
   "outputs": [],
   "source": []
  }
 ],
 "metadata": {
  "kernelspec": {
   "display_name": "py3_ling300",
   "language": "python",
   "name": "py3_ling300"
  },
  "language_info": {
   "codemirror_mode": {
    "name": "ipython",
    "version": 3
   },
   "file_extension": ".py",
   "mimetype": "text/x-python",
   "name": "python",
   "nbconvert_exporter": "python",
   "pygments_lexer": "ipython3",
   "version": "3.7.7"
  }
 },
 "nbformat": 4,
 "nbformat_minor": 2
}
